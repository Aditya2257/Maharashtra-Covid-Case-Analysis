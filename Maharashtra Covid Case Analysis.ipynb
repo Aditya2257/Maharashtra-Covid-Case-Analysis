{
 "cells": [
  {
   "cell_type": "code",
   "execution_count": 1,
   "id": "2ba315ce-3ea0-401b-abc1-2784d3f1bd00",
   "metadata": {},
   "outputs": [],
   "source": [
    "import numpy as np\n",
    "import pandas as pd"
   ]
  },
  {
   "cell_type": "markdown",
   "id": "bdb89112-7e0f-4920-9fac-001990ed6d06",
   "metadata": {},
   "source": [
    "# *Importing Dataset*"
   ]
  },
  {
   "cell_type": "code",
   "execution_count": 99,
   "id": "a617bca7-745e-40cb-bd4c-3d0feccbfc66",
   "metadata": {},
   "outputs": [],
   "source": [
    "a=pd.read_csv('Maharashtra Latest Covid Cases.csv')"
   ]
  },
  {
   "cell_type": "code",
   "execution_count": 3,
   "id": "814d42cd-17c6-4448-9a22-894cefa7f757",
   "metadata": {},
   "outputs": [
    {
     "data": {
      "text/html": [
       "<div>\n",
       "<style scoped>\n",
       "    .dataframe tbody tr th:only-of-type {\n",
       "        vertical-align: middle;\n",
       "    }\n",
       "\n",
       "    .dataframe tbody tr th {\n",
       "        vertical-align: top;\n",
       "    }\n",
       "\n",
       "    .dataframe thead th {\n",
       "        text-align: right;\n",
       "    }\n",
       "</style>\n",
       "<table border=\"1\" class=\"dataframe\">\n",
       "  <thead>\n",
       "    <tr style=\"text-align: right;\">\n",
       "      <th></th>\n",
       "      <th>Districts</th>\n",
       "      <th>Positive Cases</th>\n",
       "      <th>Active Cases</th>\n",
       "      <th>Recovered</th>\n",
       "      <th>Deceased</th>\n",
       "      <th>Recovery Rate (%)</th>\n",
       "      <th>Fatality Rate (%)</th>\n",
       "    </tr>\n",
       "  </thead>\n",
       "  <tbody>\n",
       "    <tr>\n",
       "      <th>0</th>\n",
       "      <td>Ahmednagar</td>\n",
       "      <td>353374</td>\n",
       "      <td>7873</td>\n",
       "      <td>338318</td>\n",
       "      <td>7172</td>\n",
       "      <td>95.7</td>\n",
       "      <td>2.0</td>\n",
       "    </tr>\n",
       "    <tr>\n",
       "      <th>1</th>\n",
       "      <td>Akola</td>\n",
       "      <td>62121</td>\n",
       "      <td>2152</td>\n",
       "      <td>58535</td>\n",
       "      <td>1430</td>\n",
       "      <td>94.2</td>\n",
       "      <td>2.3</td>\n",
       "    </tr>\n",
       "    <tr>\n",
       "      <th>2</th>\n",
       "      <td>Amravati</td>\n",
       "      <td>98654</td>\n",
       "      <td>2152</td>\n",
       "      <td>94902</td>\n",
       "      <td>1598</td>\n",
       "      <td>96.2</td>\n",
       "      <td>1.6</td>\n",
       "    </tr>\n",
       "    <tr>\n",
       "      <th>3</th>\n",
       "      <td>Aurangabad</td>\n",
       "      <td>163407</td>\n",
       "      <td>5007</td>\n",
       "      <td>154121</td>\n",
       "      <td>4265</td>\n",
       "      <td>94.3</td>\n",
       "      <td>2.6</td>\n",
       "    </tr>\n",
       "    <tr>\n",
       "      <th>4</th>\n",
       "      <td>Beed</td>\n",
       "      <td>105500</td>\n",
       "      <td>888</td>\n",
       "      <td>101759</td>\n",
       "      <td>2846</td>\n",
       "      <td>96.5</td>\n",
       "      <td>2.7</td>\n",
       "    </tr>\n",
       "  </tbody>\n",
       "</table>\n",
       "</div>"
      ],
      "text/plain": [
       "    Districts  Positive Cases  Active Cases  Recovered  Deceased  \\\n",
       "0  Ahmednagar          353374          7873     338318      7172   \n",
       "1       Akola           62121          2152      58535      1430   \n",
       "2    Amravati           98654          2152      94902      1598   \n",
       "3  Aurangabad          163407          5007     154121      4265   \n",
       "4        Beed          105500           888     101759      2846   \n",
       "\n",
       "   Recovery Rate (%)  Fatality Rate (%)  \n",
       "0               95.7                2.0  \n",
       "1               94.2                2.3  \n",
       "2               96.2                1.6  \n",
       "3               94.3                2.6  \n",
       "4               96.5                2.7  "
      ]
     },
     "execution_count": 3,
     "metadata": {},
     "output_type": "execute_result"
    }
   ],
   "source": [
    "a.head()"
   ]
  },
  {
   "cell_type": "code",
   "execution_count": 4,
   "id": "d37fae1d-aaff-4532-9b4d-03c239cdfb9f",
   "metadata": {},
   "outputs": [
    {
     "data": {
      "text/html": [
       "<div>\n",
       "<style scoped>\n",
       "    .dataframe tbody tr th:only-of-type {\n",
       "        vertical-align: middle;\n",
       "    }\n",
       "\n",
       "    .dataframe tbody tr th {\n",
       "        vertical-align: top;\n",
       "    }\n",
       "\n",
       "    .dataframe thead th {\n",
       "        text-align: right;\n",
       "    }\n",
       "</style>\n",
       "<table border=\"1\" class=\"dataframe\">\n",
       "  <thead>\n",
       "    <tr style=\"text-align: right;\">\n",
       "      <th></th>\n",
       "      <th>Districts</th>\n",
       "      <th>Positive Cases</th>\n",
       "      <th>Active Cases</th>\n",
       "      <th>Recovered</th>\n",
       "      <th>Deceased</th>\n",
       "      <th>Recovery Rate (%)</th>\n",
       "      <th>Fatality Rate (%)</th>\n",
       "    </tr>\n",
       "  </thead>\n",
       "  <tbody>\n",
       "    <tr>\n",
       "      <th>30</th>\n",
       "      <td>Solapur</td>\n",
       "      <td>216965</td>\n",
       "      <td>3305</td>\n",
       "      <td>207918</td>\n",
       "      <td>5629</td>\n",
       "      <td>95.8</td>\n",
       "      <td>2.6</td>\n",
       "    </tr>\n",
       "    <tr>\n",
       "      <th>31</th>\n",
       "      <td>Thane</td>\n",
       "      <td>739788</td>\n",
       "      <td>50456</td>\n",
       "      <td>677647</td>\n",
       "      <td>11650</td>\n",
       "      <td>91.6</td>\n",
       "      <td>1.6</td>\n",
       "    </tr>\n",
       "    <tr>\n",
       "      <th>32</th>\n",
       "      <td>Wardha</td>\n",
       "      <td>59803</td>\n",
       "      <td>1907</td>\n",
       "      <td>56513</td>\n",
       "      <td>1218</td>\n",
       "      <td>94.5</td>\n",
       "      <td>2.0</td>\n",
       "    </tr>\n",
       "    <tr>\n",
       "      <th>33</th>\n",
       "      <td>Washim</td>\n",
       "      <td>42451</td>\n",
       "      <td>544</td>\n",
       "      <td>41267</td>\n",
       "      <td>637</td>\n",
       "      <td>97.2</td>\n",
       "      <td>1.5</td>\n",
       "    </tr>\n",
       "    <tr>\n",
       "      <th>34</th>\n",
       "      <td>Yavatmal</td>\n",
       "      <td>77628</td>\n",
       "      <td>1091</td>\n",
       "      <td>74733</td>\n",
       "      <td>1800</td>\n",
       "      <td>96.3</td>\n",
       "      <td>2.3</td>\n",
       "    </tr>\n",
       "  </tbody>\n",
       "</table>\n",
       "</div>"
      ],
      "text/plain": [
       "   Districts  Positive Cases  Active Cases  Recovered  Deceased  \\\n",
       "30   Solapur          216965          3305     207918      5629   \n",
       "31     Thane          739788         50456     677647     11650   \n",
       "32    Wardha           59803          1907      56513      1218   \n",
       "33    Washim           42451           544      41267       637   \n",
       "34  Yavatmal           77628          1091      74733      1800   \n",
       "\n",
       "    Recovery Rate (%)  Fatality Rate (%)  \n",
       "30               95.8                2.6  \n",
       "31               91.6                1.6  \n",
       "32               94.5                2.0  \n",
       "33               97.2                1.5  \n",
       "34               96.3                2.3  "
      ]
     },
     "execution_count": 4,
     "metadata": {},
     "output_type": "execute_result"
    }
   ],
   "source": [
    "a.tail()"
   ]
  },
  {
   "cell_type": "markdown",
   "id": "32755e13-c6d1-4707-a9de-faa41a6786a7",
   "metadata": {},
   "source": [
    "# *Assesment of Data*"
   ]
  },
  {
   "cell_type": "code",
   "execution_count": 5,
   "id": "702dfadb-c78e-440f-b9e0-1c32035db976",
   "metadata": {},
   "outputs": [
    {
     "data": {
      "text/plain": [
       "(35, 7)"
      ]
     },
     "execution_count": 5,
     "metadata": {},
     "output_type": "execute_result"
    }
   ],
   "source": [
    "a.shape"
   ]
  },
  {
   "cell_type": "code",
   "execution_count": 6,
   "id": "d40e698d-88ee-4203-a472-05b3c337cb77",
   "metadata": {},
   "outputs": [
    {
     "data": {
      "text/plain": [
       "245"
      ]
     },
     "execution_count": 6,
     "metadata": {},
     "output_type": "execute_result"
    }
   ],
   "source": [
    "a.size"
   ]
  },
  {
   "cell_type": "code",
   "execution_count": 7,
   "id": "b16bedd1-c885-450d-8a5d-8dc42dbb878d",
   "metadata": {},
   "outputs": [
    {
     "name": "stdout",
     "output_type": "stream",
     "text": [
      "<class 'pandas.core.frame.DataFrame'>\n",
      "RangeIndex: 35 entries, 0 to 34\n",
      "Data columns (total 7 columns):\n",
      " #   Column             Non-Null Count  Dtype  \n",
      "---  ------             --------------  -----  \n",
      " 0   Districts          35 non-null     object \n",
      " 1   Positive Cases     35 non-null     int64  \n",
      " 2   Active Cases       35 non-null     int64  \n",
      " 3   Recovered          35 non-null     int64  \n",
      " 4   Deceased           35 non-null     int64  \n",
      " 5   Recovery Rate (%)  35 non-null     float64\n",
      " 6   Fatality Rate (%)  35 non-null     float64\n",
      "dtypes: float64(2), int64(4), object(1)\n",
      "memory usage: 2.0+ KB\n"
     ]
    }
   ],
   "source": [
    "a.info()"
   ]
  },
  {
   "cell_type": "code",
   "execution_count": 8,
   "id": "1d93392e-14d2-4311-b7d6-be07a8fa7ddc",
   "metadata": {},
   "outputs": [
    {
     "data": {
      "text/plain": [
       "Districts            0\n",
       "Positive Cases       0\n",
       "Active Cases         0\n",
       "Recovered            0\n",
       "Deceased             0\n",
       "Recovery Rate (%)    0\n",
       "Fatality Rate (%)    0\n",
       "dtype: int64"
      ]
     },
     "execution_count": 8,
     "metadata": {},
     "output_type": "execute_result"
    }
   ],
   "source": [
    "a.isnull().sum()"
   ]
  },
  {
   "cell_type": "code",
   "execution_count": 9,
   "id": "1ab0bfb5-378d-4740-90e2-bf931064709d",
   "metadata": {},
   "outputs": [
    {
     "data": {
      "text/html": [
       "<div>\n",
       "<style scoped>\n",
       "    .dataframe tbody tr th:only-of-type {\n",
       "        vertical-align: middle;\n",
       "    }\n",
       "\n",
       "    .dataframe tbody tr th {\n",
       "        vertical-align: top;\n",
       "    }\n",
       "\n",
       "    .dataframe thead th {\n",
       "        text-align: right;\n",
       "    }\n",
       "</style>\n",
       "<table border=\"1\" class=\"dataframe\">\n",
       "  <thead>\n",
       "    <tr style=\"text-align: right;\">\n",
       "      <th></th>\n",
       "      <th>Positive Cases</th>\n",
       "      <th>Active Cases</th>\n",
       "      <th>Recovered</th>\n",
       "      <th>Deceased</th>\n",
       "      <th>Recovery Rate (%)</th>\n",
       "      <th>Fatality Rate (%)</th>\n",
       "    </tr>\n",
       "  </thead>\n",
       "  <tbody>\n",
       "    <tr>\n",
       "      <th>count</th>\n",
       "      <td>3.500000e+01</td>\n",
       "      <td>35.000000</td>\n",
       "      <td>3.500000e+01</td>\n",
       "      <td>35.000000</td>\n",
       "      <td>35.000000</td>\n",
       "      <td>35.000000</td>\n",
       "    </tr>\n",
       "    <tr>\n",
       "      <th>mean</th>\n",
       "      <td>2.106175e+05</td>\n",
       "      <td>7387.685714</td>\n",
       "      <td>1.990686e+05</td>\n",
       "      <td>4053.142857</td>\n",
       "      <td>95.180000</td>\n",
       "      <td>2.125714</td>\n",
       "    </tr>\n",
       "    <tr>\n",
       "      <th>std</th>\n",
       "      <td>2.847807e+05</td>\n",
       "      <td>14741.848812</td>\n",
       "      <td>2.667985e+05</td>\n",
       "      <td>4519.387564</td>\n",
       "      <td>1.354253</td>\n",
       "      <td>0.507788</td>\n",
       "    </tr>\n",
       "    <tr>\n",
       "      <th>min</th>\n",
       "      <td>1.915900e+04</td>\n",
       "      <td>418.000000</td>\n",
       "      <td>1.823200e+04</td>\n",
       "      <td>508.000000</td>\n",
       "      <td>91.500000</td>\n",
       "      <td>0.900000</td>\n",
       "    </tr>\n",
       "    <tr>\n",
       "      <th>25%</th>\n",
       "      <td>6.078050e+04</td>\n",
       "      <td>1124.500000</td>\n",
       "      <td>5.752400e+04</td>\n",
       "      <td>1218.000000</td>\n",
       "      <td>94.650000</td>\n",
       "      <td>1.750000</td>\n",
       "    </tr>\n",
       "    <tr>\n",
       "      <th>50%</th>\n",
       "      <td>9.591600e+04</td>\n",
       "      <td>2152.000000</td>\n",
       "      <td>8.967200e+04</td>\n",
       "      <td>2451.000000</td>\n",
       "      <td>95.400000</td>\n",
       "      <td>2.100000</td>\n",
       "    </tr>\n",
       "    <tr>\n",
       "      <th>75%</th>\n",
       "      <td>2.169540e+05</td>\n",
       "      <td>4778.000000</td>\n",
       "      <td>2.073310e+05</td>\n",
       "      <td>5635.000000</td>\n",
       "      <td>96.050000</td>\n",
       "      <td>2.600000</td>\n",
       "    </tr>\n",
       "    <tr>\n",
       "      <th>max</th>\n",
       "      <td>1.299111e+06</td>\n",
       "      <td>73098.000000</td>\n",
       "      <td>1.205762e+06</td>\n",
       "      <td>19901.000000</td>\n",
       "      <td>97.800000</td>\n",
       "      <td>3.000000</td>\n",
       "    </tr>\n",
       "  </tbody>\n",
       "</table>\n",
       "</div>"
      ],
      "text/plain": [
       "       Positive Cases  Active Cases     Recovered      Deceased  \\\n",
       "count    3.500000e+01     35.000000  3.500000e+01     35.000000   \n",
       "mean     2.106175e+05   7387.685714  1.990686e+05   4053.142857   \n",
       "std      2.847807e+05  14741.848812  2.667985e+05   4519.387564   \n",
       "min      1.915900e+04    418.000000  1.823200e+04    508.000000   \n",
       "25%      6.078050e+04   1124.500000  5.752400e+04   1218.000000   \n",
       "50%      9.591600e+04   2152.000000  8.967200e+04   2451.000000   \n",
       "75%      2.169540e+05   4778.000000  2.073310e+05   5635.000000   \n",
       "max      1.299111e+06  73098.000000  1.205762e+06  19901.000000   \n",
       "\n",
       "       Recovery Rate (%)  Fatality Rate (%)  \n",
       "count          35.000000          35.000000  \n",
       "mean           95.180000           2.125714  \n",
       "std             1.354253           0.507788  \n",
       "min            91.500000           0.900000  \n",
       "25%            94.650000           1.750000  \n",
       "50%            95.400000           2.100000  \n",
       "75%            96.050000           2.600000  \n",
       "max            97.800000           3.000000  "
      ]
     },
     "execution_count": 9,
     "metadata": {},
     "output_type": "execute_result"
    }
   ],
   "source": [
    "a.describe()"
   ]
  },
  {
   "cell_type": "code",
   "execution_count": 100,
   "id": "0f47e1cc-eb1a-4f10-a762-389fb3f8e10b",
   "metadata": {},
   "outputs": [
    {
     "data": {
      "text/plain": [
       "Districts            Yavatmal\n",
       "Positive Cases        1299111\n",
       "Active Cases            73098\n",
       "Recovered             1205762\n",
       "Deceased                19901\n",
       "Recovery Rate (%)        97.8\n",
       "Fatality Rate (%)         3.0\n",
       "dtype: object"
      ]
     },
     "execution_count": 100,
     "metadata": {},
     "output_type": "execute_result"
    }
   ],
   "source": [
    "a.max()"
   ]
  },
  {
   "cell_type": "code",
   "execution_count": 101,
   "id": "a3628ea8-42ed-46ac-9ec0-33880181acac",
   "metadata": {},
   "outputs": [
    {
     "data": {
      "text/plain": [
       "Districts            Ahmednagar\n",
       "Positive Cases            19159\n",
       "Active Cases                418\n",
       "Recovered                 18232\n",
       "Deceased                    508\n",
       "Recovery Rate (%)          91.5\n",
       "Fatality Rate (%)           0.9\n",
       "dtype: object"
      ]
     },
     "execution_count": 101,
     "metadata": {},
     "output_type": "execute_result"
    }
   ],
   "source": [
    "a.min()"
   ]
  },
  {
   "cell_type": "code",
   "execution_count": 12,
   "id": "f4bf5b6e-0405-44e8-a91c-444854a63ddd",
   "metadata": {},
   "outputs": [
    {
     "data": {
      "text/plain": [
       "array([ 7873,  2152,  5007,   888,  1109,  1102,  2582,  1457,   956,\n",
       "        1100,   418,  2868,  1148,  3427,  3419, 21838, 16242,  3575,\n",
       "        1542, 14103,  1140,  2780,  1028, 73098, 14974,  1275,  4549,\n",
       "        6094,  1370,  3305, 50456,  1907,   544,  1091], dtype=int64)"
      ]
     },
     "execution_count": 12,
     "metadata": {},
     "output_type": "execute_result"
    }
   ],
   "source": [
    "a['Active Cases'].unique()"
   ]
  },
  {
   "cell_type": "code",
   "execution_count": 13,
   "id": "3e56450c-bb6e-40f1-9748-5b2175824984",
   "metadata": {},
   "outputs": [
    {
     "data": {
      "text/plain": [
       "34"
      ]
     },
     "execution_count": 13,
     "metadata": {},
     "output_type": "execute_result"
    }
   ],
   "source": [
    "# It gives total number of unique values\n",
    "a['Active Cases'].nunique()"
   ]
  },
  {
   "cell_type": "code",
   "execution_count": 14,
   "id": "22b78c9a-9780-4523-aeb7-8a3709d977bf",
   "metadata": {},
   "outputs": [
    {
     "data": {
      "text/plain": [
       "2152     2\n",
       "7873     1\n",
       "21838    1\n",
       "418      1\n",
       "3427     1\n",
       "3305     1\n",
       "1457     1\n",
       "16242    1\n",
       "2868     1\n",
       "1907     1\n",
       "1148     1\n",
       "3575     1\n",
       "888      1\n",
       "1140     1\n",
       "1275     1\n",
       "956      1\n",
       "544      1\n",
       "2780     1\n",
       "3419     1\n",
       "1370     1\n",
       "50456    1\n",
       "14103    1\n",
       "2582     1\n",
       "1109     1\n",
       "5007     1\n",
       "1102     1\n",
       "1100     1\n",
       "6094     1\n",
       "73098    1\n",
       "1542     1\n",
       "4549     1\n",
       "1028     1\n",
       "1091     1\n",
       "14974    1\n",
       "Name: Active Cases, dtype: int64"
      ]
     },
     "execution_count": 14,
     "metadata": {},
     "output_type": "execute_result"
    }
   ],
   "source": [
    "# How many times each unique value has occured\n",
    "a['Active Cases'].value_counts()"
   ]
  },
  {
   "cell_type": "code",
   "execution_count": 15,
   "id": "670490dc-6f2b-4aba-853e-c6e4348e8d41",
   "metadata": {},
   "outputs": [
    {
     "data": {
      "text/html": [
       "<div>\n",
       "<style scoped>\n",
       "    .dataframe tbody tr th:only-of-type {\n",
       "        vertical-align: middle;\n",
       "    }\n",
       "\n",
       "    .dataframe tbody tr th {\n",
       "        vertical-align: top;\n",
       "    }\n",
       "\n",
       "    .dataframe thead th {\n",
       "        text-align: right;\n",
       "    }\n",
       "</style>\n",
       "<table border=\"1\" class=\"dataframe\">\n",
       "  <thead>\n",
       "    <tr style=\"text-align: right;\">\n",
       "      <th></th>\n",
       "      <th>Positive Cases</th>\n",
       "      <th>Active Cases</th>\n",
       "      <th>Recovered</th>\n",
       "      <th>Deceased</th>\n",
       "      <th>Recovery Rate (%)</th>\n",
       "      <th>Fatality Rate (%)</th>\n",
       "    </tr>\n",
       "  </thead>\n",
       "  <tbody>\n",
       "    <tr>\n",
       "      <th>Positive Cases</th>\n",
       "      <td>1.000000</td>\n",
       "      <td>0.904851</td>\n",
       "      <td>0.999769</td>\n",
       "      <td>0.983468</td>\n",
       "      <td>-0.374941</td>\n",
       "      <td>-0.303797</td>\n",
       "    </tr>\n",
       "    <tr>\n",
       "      <th>Active Cases</th>\n",
       "      <td>0.904851</td>\n",
       "      <td>1.000000</td>\n",
       "      <td>0.895549</td>\n",
       "      <td>0.860932</td>\n",
       "      <td>-0.575763</td>\n",
       "      <td>-0.317350</td>\n",
       "    </tr>\n",
       "    <tr>\n",
       "      <th>Recovered</th>\n",
       "      <td>0.999769</td>\n",
       "      <td>0.895549</td>\n",
       "      <td>1.000000</td>\n",
       "      <td>0.984307</td>\n",
       "      <td>-0.361984</td>\n",
       "      <td>-0.303371</td>\n",
       "    </tr>\n",
       "    <tr>\n",
       "      <th>Deceased</th>\n",
       "      <td>0.983468</td>\n",
       "      <td>0.860932</td>\n",
       "      <td>0.984307</td>\n",
       "      <td>1.000000</td>\n",
       "      <td>-0.384665</td>\n",
       "      <td>-0.179132</td>\n",
       "    </tr>\n",
       "    <tr>\n",
       "      <th>Recovery Rate (%)</th>\n",
       "      <td>-0.374941</td>\n",
       "      <td>-0.575763</td>\n",
       "      <td>-0.361984</td>\n",
       "      <td>-0.384665</td>\n",
       "      <td>1.000000</td>\n",
       "      <td>-0.175870</td>\n",
       "    </tr>\n",
       "    <tr>\n",
       "      <th>Fatality Rate (%)</th>\n",
       "      <td>-0.303797</td>\n",
       "      <td>-0.317350</td>\n",
       "      <td>-0.303371</td>\n",
       "      <td>-0.179132</td>\n",
       "      <td>-0.175870</td>\n",
       "      <td>1.000000</td>\n",
       "    </tr>\n",
       "  </tbody>\n",
       "</table>\n",
       "</div>"
      ],
      "text/plain": [
       "                   Positive Cases  Active Cases  Recovered  Deceased  \\\n",
       "Positive Cases           1.000000      0.904851   0.999769  0.983468   \n",
       "Active Cases             0.904851      1.000000   0.895549  0.860932   \n",
       "Recovered                0.999769      0.895549   1.000000  0.984307   \n",
       "Deceased                 0.983468      0.860932   0.984307  1.000000   \n",
       "Recovery Rate (%)       -0.374941     -0.575763  -0.361984 -0.384665   \n",
       "Fatality Rate (%)       -0.303797     -0.317350  -0.303371 -0.179132   \n",
       "\n",
       "                   Recovery Rate (%)  Fatality Rate (%)  \n",
       "Positive Cases             -0.374941          -0.303797  \n",
       "Active Cases               -0.575763          -0.317350  \n",
       "Recovered                  -0.361984          -0.303371  \n",
       "Deceased                   -0.384665          -0.179132  \n",
       "Recovery Rate (%)           1.000000          -0.175870  \n",
       "Fatality Rate (%)          -0.175870           1.000000  "
      ]
     },
     "execution_count": 15,
     "metadata": {},
     "output_type": "execute_result"
    }
   ],
   "source": [
    "a.corr(method='pearson', min_periods=1)"
   ]
  },
  {
   "cell_type": "markdown",
   "id": "6207eff3-8aa5-4cee-bb9c-e73b1938afb9",
   "metadata": {},
   "source": [
    "# *Visulisation*"
   ]
  },
  {
   "cell_type": "code",
   "execution_count": 41,
   "id": "f8e8b27f-6a44-41e0-a6f9-d38f3c59e0dc",
   "metadata": {},
   "outputs": [],
   "source": [
    "import matplotlib.pyplot as plt\n",
    "%matplotlib inline\n",
    "import seaborn as sns"
   ]
  },
  {
   "cell_type": "code",
   "execution_count": 17,
   "id": "1b5c7c0f-b593-4b1e-a363-03389b50eb76",
   "metadata": {},
   "outputs": [
    {
     "data": {
      "text/plain": [
       "<AxesSubplot:>"
      ]
     },
     "execution_count": 17,
     "metadata": {},
     "output_type": "execute_result"
    },
    {
     "data": {
      "image/png": "[encoded data removed]",
      "text/plain": [
       "<Figure size 432x288 with 2 Axes>"
      ]
     },
     "metadata": {
      "needs_background": "light"
     },
     "output_type": "display_data"
    }
   ],
   "source": [
    "sns.heatmap(a.corr(),annot=True)"
   ]
  },
  {
   "cell_type": "markdown",
   "id": "9404e900-dba9-404d-ad80-d7b086bfb309",
   "metadata": {},
   "source": [
    "# *Now Check Total Active Cases by Districts*"
   ]
  },
  {
   "cell_type": "code",
   "execution_count": 105,
   "id": "9658d966-38da-412c-99a2-31367436669b",
   "metadata": {},
   "outputs": [
    {
     "data": {
      "image/png": "[encoded data removed]",
      "text/plain": [
       "<Figure size 1008x576 with 1 Axes>"
      ]
     },
     "metadata": {
      "needs_background": "light"
     },
     "output_type": "display_data"
    }
   ],
   "source": [
    "plt.figure(figsize=(14,8))\n",
    "sns.barplot(x='Districts', y='Active Cases', color='red',label='Active Cases', data=a)\n",
    "plt.title(\"Total Active Cases\")\n",
    "plt.xticks(rotation=90)\n",
    "plt.legend()\n",
    "plt.grid(True)\n",
    "plt.show()"
   ]
  },
  {
   "cell_type": "markdown",
   "id": "ffbde9c3-334c-4b44-b6c5-7b67b45d9458",
   "metadata": {},
   "source": [
    "# *Check Total Positive Cases and Recoverd Cases in Districts of Maharashtra* "
   ]
  },
  {
   "cell_type": "code",
   "execution_count": 106,
   "id": "bb15aeb5-0e02-40ec-8f80-3a5edae52ac5",
   "metadata": {},
   "outputs": [
    {
     "data": {
      "image/png": "[encoded data removed]",
      "text/plain": [
       "<Figure size 1008x576 with 1 Axes>"
      ]
     },
     "metadata": {
      "needs_background": "light"
     },
     "output_type": "display_data"
    }
   ],
   "source": [
    "k=a.loc[:, ['Districts','Positive Cases','Recovered']]\n",
    "k.set_index('Districts', inplace=True)\n",
    "k.plot(kind='bar',figsize=(14,8))\n",
    "plt.title('Total Positive Cases and Recoverd Cases in Districts of Maharashtra')\n",
    "plt.xticks(rotation=90)\n",
    "plt.legend()\n",
    "plt.grid(True)\n",
    "plt.show()"
   ]
  },
  {
   "cell_type": "markdown",
   "id": "be21420d-6de3-4c3b-b0eb-26fecf030d41",
   "metadata": {},
   "source": [
    "# *Total Deaths in Districts of Maharashtra*"
   ]
  },
  {
   "cell_type": "code",
   "execution_count": 107,
   "id": "eb75a60e-8248-42e6-b687-8296630ad6fd",
   "metadata": {},
   "outputs": [
    {
     "data": {
      "image/png": "[encoded data removed]",
      "text/plain": [
       "<Figure size 1008x576 with 1 Axes>"
      ]
     },
     "metadata": {
      "needs_background": "light"
     },
     "output_type": "display_data"
    }
   ],
   "source": [
    "plt.figure(figsize=(14,8))\n",
    "sns.barplot(x='Districts',y='Deceased',label='Deceased', data=a.sort_values(by='Deceased',ascending=False))\n",
    "plt.title('Total Number of Deaths')\n",
    "plt.xticks(rotation=90)\n",
    "plt.legend()\n",
    "plt.grid(True)\n",
    "plt.show()"
   ]
  },
  {
   "cell_type": "markdown",
   "id": "1c623c7e-20a7-4c1c-8573-42eb28a52803",
   "metadata": {},
   "source": [
    "# *Check Average Recovery & Fatality Rate in Maharashtra*"
   ]
  },
  {
   "cell_type": "code",
   "execution_count": 21,
   "id": "b17524ac-57ea-4412-b541-bfb823037356",
   "metadata": {},
   "outputs": [
    {
     "data": {
      "image/png": "[encoded data removed]",
      "text/plain": [
       "<Figure size 720x576 with 1 Axes>"
      ]
     },
     "metadata": {},
     "output_type": "display_data"
    }
   ],
   "source": [
    "avg_recovery_rate= round(a['Recovery Rate (%)'].mean(),2)\n",
    "avg_fatality_rate= round(a['Fatality Rate (%)'].mean(),2)\n",
    "col=['Recovery Rate','Fatality Rate']\n",
    "plt.figure(figsize=(10,8))\n",
    "plt.pie([avg_recovery_rate,avg_fatality_rate],labels=col,explode=[0.1,0], autopct=\"%0.2f\")\n",
    "plt.title('Average Recovery & Fatality Rate in Maharashtra')\n",
    "plt.show()"
   ]
  },
  {
   "cell_type": "markdown",
   "id": "0663d2d9-49d8-40bd-99ac-898ee9712ba0",
   "metadata": {},
   "source": [
    "# *Districts & their Recovery Rates*"
   ]
  },
  {
   "cell_type": "code",
   "execution_count": 102,
   "id": "38328359-5636-4b72-94be-cc6b2cf0827c",
   "metadata": {},
   "outputs": [
    {
     "data": {
      "text/html": [
       "<div>\n",
       "<style scoped>\n",
       "    .dataframe tbody tr th:only-of-type {\n",
       "        vertical-align: middle;\n",
       "    }\n",
       "\n",
       "    .dataframe tbody tr th {\n",
       "        vertical-align: top;\n",
       "    }\n",
       "\n",
       "    .dataframe thead th {\n",
       "        text-align: right;\n",
       "    }\n",
       "</style>\n",
       "<table border=\"1\" class=\"dataframe\">\n",
       "  <thead>\n",
       "    <tr style=\"text-align: right;\">\n",
       "      <th></th>\n",
       "      <th>Districts</th>\n",
       "      <th>Recovery Rate (%)</th>\n",
       "      <th>Fatality Rate (%)</th>\n",
       "    </tr>\n",
       "  </thead>\n",
       "  <tbody>\n",
       "    <tr>\n",
       "      <th>0</th>\n",
       "      <td>Ahmednagar</td>\n",
       "      <td>95.7</td>\n",
       "      <td>2.0</td>\n",
       "    </tr>\n",
       "    <tr>\n",
       "      <th>1</th>\n",
       "      <td>Akola</td>\n",
       "      <td>94.2</td>\n",
       "      <td>2.3</td>\n",
       "    </tr>\n",
       "    <tr>\n",
       "      <th>2</th>\n",
       "      <td>Amravati</td>\n",
       "      <td>96.2</td>\n",
       "      <td>1.6</td>\n",
       "    </tr>\n",
       "    <tr>\n",
       "      <th>3</th>\n",
       "      <td>Aurangabad</td>\n",
       "      <td>94.3</td>\n",
       "      <td>2.6</td>\n",
       "    </tr>\n",
       "    <tr>\n",
       "      <th>4</th>\n",
       "      <td>Beed</td>\n",
       "      <td>96.5</td>\n",
       "      <td>2.7</td>\n",
       "    </tr>\n",
       "    <tr>\n",
       "      <th>5</th>\n",
       "      <td>Bhandara</td>\n",
       "      <td>96.4</td>\n",
       "      <td>1.8</td>\n",
       "    </tr>\n",
       "    <tr>\n",
       "      <th>6</th>\n",
       "      <td>Buldhana</td>\n",
       "      <td>97.8</td>\n",
       "      <td>0.9</td>\n",
       "    </tr>\n",
       "    <tr>\n",
       "      <th>7</th>\n",
       "      <td>Chandrapur</td>\n",
       "      <td>95.5</td>\n",
       "      <td>1.7</td>\n",
       "    </tr>\n",
       "    <tr>\n",
       "      <th>8</th>\n",
       "      <td>Dhule</td>\n",
       "      <td>95.6</td>\n",
       "      <td>1.4</td>\n",
       "    </tr>\n",
       "    <tr>\n",
       "      <th>9</th>\n",
       "      <td>Gadchiroli</td>\n",
       "      <td>94.8</td>\n",
       "      <td>2.1</td>\n",
       "    </tr>\n",
       "    <tr>\n",
       "      <th>10</th>\n",
       "      <td>Gondia</td>\n",
       "      <td>96.0</td>\n",
       "      <td>1.4</td>\n",
       "    </tr>\n",
       "    <tr>\n",
       "      <th>11</th>\n",
       "      <td>Hingoli</td>\n",
       "      <td>95.2</td>\n",
       "      <td>2.7</td>\n",
       "    </tr>\n",
       "    <tr>\n",
       "      <th>12</th>\n",
       "      <td>Jalgaon</td>\n",
       "      <td>96.1</td>\n",
       "      <td>1.9</td>\n",
       "    </tr>\n",
       "    <tr>\n",
       "      <th>13</th>\n",
       "      <td>Jalna</td>\n",
       "      <td>96.2</td>\n",
       "      <td>2.0</td>\n",
       "    </tr>\n",
       "    <tr>\n",
       "      <th>14</th>\n",
       "      <td>Kolhapur</td>\n",
       "      <td>95.6</td>\n",
       "      <td>2.8</td>\n",
       "    </tr>\n",
       "    <tr>\n",
       "      <th>15</th>\n",
       "      <td>Latur</td>\n",
       "      <td>94.0</td>\n",
       "      <td>2.5</td>\n",
       "    </tr>\n",
       "    <tr>\n",
       "      <th>16</th>\n",
       "      <td>Mumbai</td>\n",
       "      <td>96.0</td>\n",
       "      <td>1.6</td>\n",
       "    </tr>\n",
       "    <tr>\n",
       "      <th>17</th>\n",
       "      <td>Nagpur</td>\n",
       "      <td>95.1</td>\n",
       "      <td>1.8</td>\n",
       "    </tr>\n",
       "    <tr>\n",
       "      <th>18</th>\n",
       "      <td>Nanded</td>\n",
       "      <td>93.5</td>\n",
       "      <td>2.8</td>\n",
       "    </tr>\n",
       "    <tr>\n",
       "      <th>19</th>\n",
       "      <td>Nandurbar</td>\n",
       "      <td>94.0</td>\n",
       "      <td>2.3</td>\n",
       "    </tr>\n",
       "    <tr>\n",
       "      <th>20</th>\n",
       "      <td>Nashik</td>\n",
       "      <td>94.8</td>\n",
       "      <td>2.0</td>\n",
       "    </tr>\n",
       "    <tr>\n",
       "      <th>21</th>\n",
       "      <td>Osmanabad</td>\n",
       "      <td>95.4</td>\n",
       "      <td>2.8</td>\n",
       "    </tr>\n",
       "    <tr>\n",
       "      <th>22</th>\n",
       "      <td>Palghar</td>\n",
       "      <td>96.1</td>\n",
       "      <td>2.1</td>\n",
       "    </tr>\n",
       "    <tr>\n",
       "      <th>23</th>\n",
       "      <td>Parbhani</td>\n",
       "      <td>95.8</td>\n",
       "      <td>2.3</td>\n",
       "    </tr>\n",
       "    <tr>\n",
       "      <th>24</th>\n",
       "      <td>Pune</td>\n",
       "      <td>92.8</td>\n",
       "      <td>1.5</td>\n",
       "    </tr>\n",
       "    <tr>\n",
       "      <th>25</th>\n",
       "      <td>Raigad</td>\n",
       "      <td>91.5</td>\n",
       "      <td>2.1</td>\n",
       "    </tr>\n",
       "    <tr>\n",
       "      <th>26</th>\n",
       "      <td>Ratnagiri</td>\n",
       "      <td>95.4</td>\n",
       "      <td>3.0</td>\n",
       "    </tr>\n",
       "    <tr>\n",
       "      <th>27</th>\n",
       "      <td>Sangli</td>\n",
       "      <td>95.3</td>\n",
       "      <td>2.6</td>\n",
       "    </tr>\n",
       "    <tr>\n",
       "      <th>28</th>\n",
       "      <td>Satara</td>\n",
       "      <td>95.2</td>\n",
       "      <td>2.5</td>\n",
       "    </tr>\n",
       "    <tr>\n",
       "      <th>29</th>\n",
       "      <td>Sindhudurg</td>\n",
       "      <td>94.9</td>\n",
       "      <td>2.6</td>\n",
       "    </tr>\n",
       "    <tr>\n",
       "      <th>30</th>\n",
       "      <td>Solapur</td>\n",
       "      <td>95.8</td>\n",
       "      <td>2.6</td>\n",
       "    </tr>\n",
       "    <tr>\n",
       "      <th>31</th>\n",
       "      <td>Thane</td>\n",
       "      <td>91.6</td>\n",
       "      <td>1.6</td>\n",
       "    </tr>\n",
       "    <tr>\n",
       "      <th>32</th>\n",
       "      <td>Wardha</td>\n",
       "      <td>94.5</td>\n",
       "      <td>2.0</td>\n",
       "    </tr>\n",
       "    <tr>\n",
       "      <th>33</th>\n",
       "      <td>Washim</td>\n",
       "      <td>97.2</td>\n",
       "      <td>1.5</td>\n",
       "    </tr>\n",
       "    <tr>\n",
       "      <th>34</th>\n",
       "      <td>Yavatmal</td>\n",
       "      <td>96.3</td>\n",
       "      <td>2.3</td>\n",
       "    </tr>\n",
       "  </tbody>\n",
       "</table>\n",
       "</div>"
      ],
      "text/plain": [
       "     Districts  Recovery Rate (%)  Fatality Rate (%)\n",
       "0   Ahmednagar               95.7                2.0\n",
       "1        Akola               94.2                2.3\n",
       "2     Amravati               96.2                1.6\n",
       "3   Aurangabad               94.3                2.6\n",
       "4         Beed               96.5                2.7\n",
       "5     Bhandara               96.4                1.8\n",
       "6     Buldhana               97.8                0.9\n",
       "7   Chandrapur               95.5                1.7\n",
       "8        Dhule               95.6                1.4\n",
       "9   Gadchiroli               94.8                2.1\n",
       "10      Gondia               96.0                1.4\n",
       "11     Hingoli               95.2                2.7\n",
       "12     Jalgaon               96.1                1.9\n",
       "13       Jalna               96.2                2.0\n",
       "14    Kolhapur               95.6                2.8\n",
       "15       Latur               94.0                2.5\n",
       "16      Mumbai               96.0                1.6\n",
       "17      Nagpur               95.1                1.8\n",
       "18      Nanded               93.5                2.8\n",
       "19   Nandurbar               94.0                2.3\n",
       "20      Nashik               94.8                2.0\n",
       "21   Osmanabad               95.4                2.8\n",
       "22     Palghar               96.1                2.1\n",
       "23    Parbhani               95.8                2.3\n",
       "24        Pune               92.8                1.5\n",
       "25      Raigad               91.5                2.1\n",
       "26   Ratnagiri               95.4                3.0\n",
       "27      Sangli               95.3                2.6\n",
       "28      Satara               95.2                2.5\n",
       "29  Sindhudurg               94.9                2.6\n",
       "30     Solapur               95.8                2.6\n",
       "31       Thane               91.6                1.6\n",
       "32      Wardha               94.5                2.0\n",
       "33      Washim               97.2                1.5\n",
       "34    Yavatmal               96.3                2.3"
      ]
     },
     "execution_count": 102,
     "metadata": {},
     "output_type": "execute_result"
    }
   ],
   "source": [
    "s=a.loc[:,['Districts','Recovery Rate (%)','Fatality Rate (%)']]\n",
    "s"
   ]
  },
  {
   "cell_type": "code",
   "execution_count": 90,
   "id": "aaccb545-b34b-4340-8c87-340e498af00e",
   "metadata": {},
   "outputs": [
    {
     "data": {
      "text/plain": [
       "97.8"
      ]
     },
     "execution_count": 90,
     "metadata": {},
     "output_type": "execute_result"
    }
   ],
   "source": [
    "a['Recovery Rate (%)'].max()"
   ]
  },
  {
   "cell_type": "code",
   "execution_count": 96,
   "id": "d92628e3-6852-4909-bdea-e815780de834",
   "metadata": {},
   "outputs": [
    {
     "data": {
      "text/plain": [
       "91.5"
      ]
     },
     "execution_count": 96,
     "metadata": {},
     "output_type": "execute_result"
    }
   ],
   "source": [
    "a['Recovery Rate (%)'].min()"
   ]
  },
  {
   "cell_type": "code",
   "execution_count": 97,
   "id": "756bfbc5-2205-4477-801c-7a3aa8b8e3c2",
   "metadata": {},
   "outputs": [
    {
     "data": {
      "text/plain": [
       "3.0"
      ]
     },
     "execution_count": 97,
     "metadata": {},
     "output_type": "execute_result"
    }
   ],
   "source": [
    "a['Fatality Rate (%)'].max()"
   ]
  },
  {
   "cell_type": "code",
   "execution_count": 95,
   "id": "8b8a6be4-aab6-4140-bf31-5610c475b8e4",
   "metadata": {},
   "outputs": [
    {
     "data": {
      "text/plain": [
       "0.9"
      ]
     },
     "execution_count": 95,
     "metadata": {},
     "output_type": "execute_result"
    }
   ],
   "source": [
    "a['Fatality Rate (%)'].min()"
   ]
  },
  {
   "cell_type": "code",
   "execution_count": 103,
   "id": "97627cae-7c68-4d86-9c64-7299f3563bff",
   "metadata": {},
   "outputs": [
    {
     "data": {
      "text/plain": [
       "Districts            Buldhana\n",
       "Recovery Rate (%)        97.8\n",
       "Fatality Rate (%)         0.9\n",
       "Name: 6, dtype: object"
      ]
     },
     "execution_count": 103,
     "metadata": {},
     "output_type": "execute_result"
    }
   ],
   "source": [
    "s.iloc[6]"
   ]
  },
  {
   "cell_type": "code",
   "execution_count": 108,
   "id": "8a074891-fd54-4c19-b6c8-075efd1b5f03",
   "metadata": {},
   "outputs": [
    {
     "data": {
      "image/png": "[encoded data removed]",
      "text/plain": [
       "<Figure size 432x288 with 1 Axes>"
      ]
     },
     "metadata": {
      "needs_background": "light"
     },
     "output_type": "display_data"
    }
   ],
   "source": [
    "plt.scatter(a.loc[:,'Districts'],a.loc[:,'Recovery Rate (%)'],label='Recovery Rate (%)', marker=\"*\")\n",
    "plt.title('Districts & their Recovery Rates')\n",
    "plt.xticks(rotation=90)\n",
    "plt.legend()\n",
    "plt.grid(True)\n",
    "plt.show()"
   ]
  },
  {
   "cell_type": "markdown",
   "id": "044da107-62fc-40b9-9b5b-fc52772b7f23",
   "metadata": {},
   "source": [
    "# *Districts & their Fatality Rates*"
   ]
  },
  {
   "cell_type": "code",
   "execution_count": 89,
   "id": "8a563731-f65f-4a93-8f09-1be24e4ca3e2",
   "metadata": {},
   "outputs": [
    {
     "data": {
      "text/plain": [
       "3.0"
      ]
     },
     "execution_count": 89,
     "metadata": {},
     "output_type": "execute_result"
    }
   ],
   "source": [
    "a['Fatality Rate (%)'].max()"
   ]
  },
  {
   "cell_type": "code",
   "execution_count": 91,
   "id": "14d21bb8-15a6-456e-8770-af83f133c610",
   "metadata": {},
   "outputs": [
    {
     "data": {
      "text/plain": [
       "Districts            Ratnagiri\n",
       "Recovery Rate (%)         95.4\n",
       "Fatality Rate (%)          3.0\n",
       "Name: 26, dtype: object"
      ]
     },
     "execution_count": 91,
     "metadata": {},
     "output_type": "execute_result"
    }
   ],
   "source": [
    "s.iloc[26]"
   ]
  },
  {
   "cell_type": "code",
   "execution_count": 111,
   "id": "142bb3fd-863f-4304-a943-77a6989e3ce8",
   "metadata": {},
   "outputs": [
    {
     "data": {
      "image/png": "[encoded data removed]",
      "text/plain": [
       "<Figure size 432x288 with 1 Axes>"
      ]
     },
     "metadata": {
      "needs_background": "light"
     },
     "output_type": "display_data"
    }
   ],
   "source": [
    "plt.scatter(a.loc[:,'Districts'],a.loc[:,'Fatality Rate (%)'],label='Fatality Rate (%)', marker=\"o\")\n",
    "plt.title('Districts & their Fatality Rates')\n",
    "plt.xticks(rotation=90)\n",
    "plt.legend()\n",
    "plt.grid(True)\n",
    "plt.show()"
   ]
  },
  {
   "cell_type": "markdown",
   "id": "aee1ccf1-1216-4832-9d36-80f6e231018c",
   "metadata": {},
   "source": [
    "# *Conclusion*"
   ]
  },
  {
   "cell_type": "markdown",
   "id": "5f16e705-7130-4b3c-8aa6-132c3bc676ff",
   "metadata": {},
   "source": [
    "# **Most affected city by Covid in Maharastra is Pune**"
   ]
  },
  {
   "cell_type": "markdown",
   "id": "77f3300d-1453-4a7b-9ded-f44b3d653594",
   "metadata": {},
   "source": [
    "# **Most death occur in city by Covid in Maharastra is Pune**"
   ]
  },
  {
   "cell_type": "markdown",
   "id": "539df69a-53bc-46db-94d6-f3ed7e6d1216",
   "metadata": {},
   "source": [
    "# **Most safest city by Covid on the basis of recovery rate & fatality rate in Maharastra is Buldhana**"
   ]
  },
  {
   "cell_type": "code",
   "execution_count": null,
   "id": "de1e02b3-d9ef-43d2-a115-dec411919266",
   "metadata": {},
   "outputs": [],
   "source": []
  }
 ],
 "metadata": {
  "kernelspec": {
   "display_name": "Python 3",
   "language": "python",
   "name": "python3"
  },
  "language_info": {
   "codemirror_mode": {
    "name": "ipython",
    "version": 3
   },
   "file_extension": ".py",
   "mimetype": "text/x-python",
   "name": "python",
   "nbconvert_exporter": "python",
   "pygments_lexer": "ipython3",
   "version": "3.8.8"
  }
 },
 "nbformat": 4,
 "nbformat_minor": 5
}
